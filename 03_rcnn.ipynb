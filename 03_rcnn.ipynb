{
 "cells": [
  {
   "cell_type": "code",
   "execution_count": 22,
   "id": "f20e8d54-e8e9-433c-a8d7-6706e626e249",
   "metadata": {},
   "outputs": [],
   "source": [
    "from src.core import *\n",
    "from src.rois import *\n",
    "from pathlib import Path\n",
    "from functools import partial\n",
    "from tqdm import tqdm\n",
    "tqdm.pandas()\n",
    "\n",
    "import torch\n",
    "from torch.utils.data import Dataset, DataLoader\n",
    "import torch.nn as nn\n",
    "from torch.nn.functional import one_hot\n",
    "from torchvision.io import read_image, ImageReadMode\n",
    "import torchvision.transforms.v2 as v2\n",
    "from torchvision import models\n",
    "from torchvision.transforms.v2.functional import resized_crop\n",
    "\n",
    "from fastai.vision.all import DataLoaders, vision_learner, Metric, OptimWrapper, AvgMetric"
   ]
  },
  {
   "cell_type": "code",
   "execution_count": 2,
   "id": "1452a2cb-c708-4ee6-86d2-22ec4e904ae8",
   "metadata": {},
   "outputs": [],
   "source": [
    "class RCNNDataset(Dataset):\n",
    "    def __init__(self, ann_path, imgs_path, sample_frac=1, crop_size=(224,224), tfms=None):\n",
    "        ann_path = Path(ann_path)\n",
    "        df, self.id2label, self.id2img = load_data(str(ann_path.parent), imgs_path, ann_path.stem)\n",
    "        replace = True if sample_frac>1 else False\n",
    "        df = df.sample(frac=sample_frac, replace=replace)\n",
    "        self.crop_size = crop_size\n",
    "        self.tfms = tfms\n",
    "        if self.tfms is None:\n",
    "            self.tfms = v2.Compose([\n",
    "                v2.ToDtype(torch.float32, scale=True),\n",
    "                v2.Normalize(mean=[0.485, 0.456, 0.406], std=[0.229, 0.224, 0.225]),\n",
    "            ])\n",
    "        \n",
    "        res = df.progress_apply(get_annotated_rois, axis=1, id2img=self.id2img)\n",
    "        self.img_ids = torch.cat([row[0] for row in res])\n",
    "        self.rois = torch.cat([row[1] for row in res])\n",
    "        self.roi_ids = torch.cat([row[2] for row in res])\n",
    "        self.offsets = torch.cat([row[3] for row in res])\n",
    "\n",
    "    def __len__(self):\n",
    "        return self.img_ids.shape[0]\n",
    "\n",
    "    def __getitem__(self, idx):\n",
    "        img_id = self.img_ids[idx]\n",
    "        img = read_image(self.id2img[img_id.item()], mode=ImageReadMode.RGB)\n",
    "        img = self.tfms(img)\n",
    "        x_min, y_min, w, h = self.rois[idx].int().tolist()\n",
    "        crop = resized_crop(img, top=y_min, left=x_min, height=h, width=w, size=self.crop_size)\n",
    "        \n",
    "        return crop, img_id, self.rois[idx], self.roi_ids[idx], self.offsets[idx]"
   ]
  },
  {
   "cell_type": "code",
   "execution_count": 3,
   "id": "dce7029b-0e51-40dc-9bed-d1d832bcd1e2",
   "metadata": {},
   "outputs": [
    {
     "name": "stderr",
     "output_type": "stream",
     "text": [
      "100%|███████████████████████████████████████████████████████████████████████████████████| 51/51 [00:59<00:00,  1.17s/it]\n",
      "100%|███████████████████████████████████████████████████████████████████████████████████| 57/57 [01:05<00:00,  1.14s/it]\n"
     ]
    }
   ],
   "source": [
    "train_ds = RCNNDataset('tmp/train.json', 'data/train', 0.01)\n",
    "valid_ds = RCNNDataset('tmp/valid.json', 'data/train', 0.1)"
   ]
  },
  {
   "cell_type": "code",
   "execution_count": 4,
   "id": "3d45d505-a1d7-4783-878b-0eaea21896b8",
   "metadata": {},
   "outputs": [
    {
     "name": "stdout",
     "output_type": "stream",
     "text": [
      "tensor(0.5284)\n"
     ]
    }
   ],
   "source": [
    "num_neg = torch.sum(train_ds.roi_ids==0)\n",
    "num_pos = train_ds.roi_ids.numel()-num_neg\n",
    "print(num_pos/num_neg)"
   ]
  },
  {
   "cell_type": "code",
   "execution_count": 5,
   "id": "ba335c6b-b0c3-4c01-81e5-ed64f6649f64",
   "metadata": {},
   "outputs": [],
   "source": [
    "train_dl = DataLoader(train_ds, batch_size=32, shuffle=True, pin_memory=True)\n",
    "valid_dl = DataLoader(valid_ds, batch_size=32, shuffle=False, pin_memory=True)\n",
    "\n",
    "dls = DataLoaders(train_dl, valid_dl)\n",
    "dls.n_inp = 1"
   ]
  },
  {
   "cell_type": "code",
   "execution_count": 6,
   "id": "3a6345ad-6a13-4932-b539-c9b30fb6d047",
   "metadata": {},
   "outputs": [],
   "source": [
    "def get_dls(train_ds, valid_ds, bs=64):\n",
    "    train_dl = DataLoader(train_ds, batch_size=bs, shuffle=True, pin_memory=True)\n",
    "    valid_dl = DataLoader(valid_ds, batch_size=bs, shuffle=False, pin_memory=True)\n",
    "    \n",
    "    dls = DataLoaders(train_dl, valid_dl)\n",
    "    dls.n_inp = 1\n",
    "    return dls"
   ]
  },
  {
   "cell_type": "code",
   "execution_count": 25,
   "id": "c0a47829-f439-4e36-a6ac-9fe8e3a96d54",
   "metadata": {},
   "outputs": [
    {
     "data": {
      "text/plain": [
       "25088"
      ]
     },
     "execution_count": 25,
     "metadata": {},
     "output_type": "execute_result"
    }
   ],
   "source": [
    "vgg16 = models.vgg16(weights=models.VGG16_Weights.DEFAULT)\n",
    "\n",
    "vgg16.classifier[0].in_features"
   ]
  },
  {
   "cell_type": "code",
   "execution_count": 8,
   "id": "e1f01217-f13e-4f03-b523-62a7128ff34f",
   "metadata": {},
   "outputs": [],
   "source": [
    "n_classes = len(train_ds.id2label)\n",
    "\n",
    "head = nn.Sequential(\n",
    "    nn.AdaptiveAvgPool2d((7,7)), nn.Flatten(),\n",
    "    nn.Linear(25088, 4096), nn.ReLU(),\n",
    "    nn.BatchNorm1d(4096), nn.Dropout(0.5),\n",
    "    nn.Linear(4096, 512), nn.ReLU(),\n",
    "    nn.BatchNorm1d(512), nn.Dropout(0.5),\n",
    "    nn.Linear(512, n_classes+5)\n",
    ")"
   ]
  },
  {
   "cell_type": "code",
   "execution_count": 30,
   "id": "4610c2c6-15ff-4833-828f-dfee9e563d2a",
   "metadata": {},
   "outputs": [],
   "source": [
    "def reg_loss(preds, *targs):\n",
    "    _, _, roi_ids, offsets = targs\n",
    "    loss = torch.tensor(0.0, requires_grad=True)\n",
    "    mask = roi_ids!=0\n",
    "    if torch.sum(mask)>0:\n",
    "        loss = nn.L1Loss()(preds[mask, -4:], offsets[mask])\n",
    "    return loss\n",
    "\n",
    "def cls_loss(preds, *targs):\n",
    "    _, _, roi_ids, _ = targs\n",
    "    loss = torch.tensor(0.0, requires_grad=True)\n",
    "    n_classes = preds.shape[1]-4\n",
    "    cats = one_hot(roi_ids, num_classes=n_classes)\n",
    "    cat_preds = nn.Sigmoid()(preds[:,:-4])\n",
    "    loss = nn.BCELoss()(cat_preds[:,1:], cats[:,1:].to(torch.float32))\n",
    "    return loss\n",
    "\n",
    "def detn_loss(preds, *targs):\n",
    "    return cls_loss(preds, *targs) + reg_loss(preds, *targs)"
   ]
  },
  {
   "cell_type": "code",
   "execution_count": 11,
   "id": "a8f1f0d0-143d-4e36-b386-c037ad4c0bcc",
   "metadata": {},
   "outputs": [],
   "source": [
    "learn = vision_learner(dls, models.vgg16, custom_head=head, pretrained=True,\n",
    "                       weights=models.VGG16_Weights.DEFAULT, loss_func=detn_loss, n_out=4)"
   ]
  },
  {
   "cell_type": "code",
   "execution_count": 31,
   "id": "0123cd62-3faa-416e-b6c3-06f8f31bffe1",
   "metadata": {},
   "outputs": [
    {
     "name": "stdout",
     "output_type": "stream",
     "text": [
      "tensor(1.0586, grad_fn=<BinaryCrossEntropyBackward0>)\n",
      "tensor(1.8844, grad_fn=<MeanBackward0>)\n",
      "tensor(2.9430, grad_fn=<AddBackward0>)\n",
      "\n",
      "\n",
      "tensor(1.0391, grad_fn=<BinaryCrossEntropyBackward0>)\n",
      "tensor(2.1723, grad_fn=<MeanBackward0>)\n",
      "tensor(3.2114, grad_fn=<AddBackward0>)\n",
      "\n",
      "\n",
      "tensor(1.0359, grad_fn=<BinaryCrossEntropyBackward0>)\n",
      "tensor(1.6219, grad_fn=<MeanBackward0>)\n",
      "tensor(2.6577, grad_fn=<AddBackward0>)\n",
      "\n",
      "\n"
     ]
    }
   ],
   "source": [
    "for i, batch in enumerate(train_dl):\n",
    "    if i==3:  break\n",
    "    preds = learn.model(batch[0])\n",
    "    print(cls_loss(preds, *batch[1:]))\n",
    "    print(reg_loss(preds, *batch[1:]))\n",
    "    print(detn_loss(preds, *batch[1:]))\n",
    "    print('\\n')"
   ]
  },
  {
   "cell_type": "code",
   "execution_count": 32,
   "id": "08bd4880-3b3b-4338-b772-d29b957f06a2",
   "metadata": {},
   "outputs": [],
   "source": [
    "import io, sys\n",
    "from pycocotools.coco import COCO\n",
    "from pycocotools.cocoeval import COCOeval\n",
    "\n",
    "class mAP(Metric):\n",
    "    def __init__(self, gt_path, pred_path):\n",
    "        self.gt_path, self.pred_path = gt_path, pred_path\n",
    "        self.reset()\n",
    "        \n",
    "    def reset(self):\n",
    "        with open(self.pred_path, \"w\") as f:\n",
    "            json.dump([], f, indent=4)\n",
    "\n",
    "    def accumulate(self, learn):\n",
    "        probs, pred_offsets = learn.pred[:,:-4], learn.pred[:,-4:]\n",
    "        scores, pred_ids = probs.max(dim=1)\n",
    "        img_ids, rois, roi_ids, _  = learn.y\n",
    "        mask = roi_ids!=0\n",
    "        pred_bbs = apply_offsets(rois, pred_offsets)\n",
    "        \n",
    "        self.write_to_file(img_ids[mask], pred_ids[mask], pred_bbs[mask], scores[mask])\n",
    "\n",
    "    def write_to_file(self, img_ids, ids, pred_bbs, scores):\n",
    "        iterables = [img_ids.tolist(), ids.tolist(), pred_bbs.tolist(), scores.tolist()]\n",
    "        new_anns = [\n",
    "            {'image_id':img_id, 'category_id':id, 'bbox':bbox, 'score':score}\n",
    "            for img_id, id, bbox, score in zip(*iterables)\n",
    "        ]\n",
    "        with open(self.pred_path, 'r') as f:\n",
    "            data = json.load(f)\n",
    "        data += new_anns\n",
    "        with open(self.pred_path, 'w') as f:\n",
    "            json.dump(data, f, indent=4)\n",
    "            \n",
    "    @property\n",
    "    def value(self):\n",
    "        with io.StringIO() as buf:\n",
    "            save_stdout = sys.stdout\n",
    "            sys.stdout = buf  # Redirect standard output\n",
    "            coco_gt = COCO(self.gt_path)\n",
    "            coco_pred = coco_gt.loadRes(self.pred_path)\n",
    "            cocoEval = COCOeval(coco_gt, coco_pred, 'bbox')\n",
    "            cocoEval.evaluate()\n",
    "            cocoEval.accumulate()\n",
    "            cocoEval.summarize()\n",
    "            sys.stdout = save_stdout  # Restore standard output\n",
    "        return cocoEval.stats[0]"
   ]
  },
  {
   "cell_type": "code",
   "execution_count": 33,
   "id": "fb4f5f95-04e2-4a21-9850-5171ef01f0d0",
   "metadata": {},
   "outputs": [],
   "source": [
    "opt_func = partial(OptimWrapper, opt=torch.optim.Adam)\n",
    "mAP_metric = mAP('tmp/valid.json', 'tmp/valid_preds.json')\n",
    "reg_metric, cls_metric = AvgMetric(reg_loss), AvgMetric(cls_loss)\n",
    "metrics = [mAP_metric, reg_metric, cls_metric]\n",
    "\n",
    "learn = vision_learner(dls, models.vgg16, custom_head=head, weights=models.VGG16_Weights.DEFAULT,\n",
    "                       pretrained=True, loss_func=detn_loss, opt_func=opt_func, metrics=metrics, n_out=4)"
   ]
  },
  {
   "cell_type": "code",
   "execution_count": 34,
   "id": "e5da7b4d-4ff4-411e-9d30-10f62711b11c",
   "metadata": {},
   "outputs": [
    {
     "data": {
      "text/plain": [
       "\u001b[0;31mSignature:\u001b[0m\n",
       "\u001b[0mlearn\u001b[0m\u001b[0;34m.\u001b[0m\u001b[0mfine_tune\u001b[0m\u001b[0;34m(\u001b[0m\u001b[0;34m\u001b[0m\n",
       "\u001b[0;34m\u001b[0m    \u001b[0mepochs\u001b[0m\u001b[0;34m,\u001b[0m\u001b[0;34m\u001b[0m\n",
       "\u001b[0;34m\u001b[0m    \u001b[0mbase_lr\u001b[0m\u001b[0;34m=\u001b[0m\u001b[0;36m0.002\u001b[0m\u001b[0;34m,\u001b[0m\u001b[0;34m\u001b[0m\n",
       "\u001b[0;34m\u001b[0m    \u001b[0mfreeze_epochs\u001b[0m\u001b[0;34m=\u001b[0m\u001b[0;36m1\u001b[0m\u001b[0;34m,\u001b[0m\u001b[0;34m\u001b[0m\n",
       "\u001b[0;34m\u001b[0m    \u001b[0mlr_mult\u001b[0m\u001b[0;34m=\u001b[0m\u001b[0;36m100\u001b[0m\u001b[0;34m,\u001b[0m\u001b[0;34m\u001b[0m\n",
       "\u001b[0;34m\u001b[0m    \u001b[0mpct_start\u001b[0m\u001b[0;34m=\u001b[0m\u001b[0;36m0.3\u001b[0m\u001b[0;34m,\u001b[0m\u001b[0;34m\u001b[0m\n",
       "\u001b[0;34m\u001b[0m    \u001b[0mdiv\u001b[0m\u001b[0;34m=\u001b[0m\u001b[0;36m5.0\u001b[0m\u001b[0;34m,\u001b[0m\u001b[0;34m\u001b[0m\n",
       "\u001b[0;34m\u001b[0m    \u001b[0;34m*\u001b[0m\u001b[0;34m,\u001b[0m\u001b[0;34m\u001b[0m\n",
       "\u001b[0;34m\u001b[0m    \u001b[0mlr_max\u001b[0m\u001b[0;34m=\u001b[0m\u001b[0;32mNone\u001b[0m\u001b[0;34m,\u001b[0m\u001b[0;34m\u001b[0m\n",
       "\u001b[0;34m\u001b[0m    \u001b[0mdiv_final\u001b[0m\u001b[0;34m=\u001b[0m\u001b[0;36m100000.0\u001b[0m\u001b[0;34m,\u001b[0m\u001b[0;34m\u001b[0m\n",
       "\u001b[0;34m\u001b[0m    \u001b[0mwd\u001b[0m\u001b[0;34m=\u001b[0m\u001b[0;32mNone\u001b[0m\u001b[0;34m,\u001b[0m\u001b[0;34m\u001b[0m\n",
       "\u001b[0;34m\u001b[0m    \u001b[0mmoms\u001b[0m\u001b[0;34m=\u001b[0m\u001b[0;32mNone\u001b[0m\u001b[0;34m,\u001b[0m\u001b[0;34m\u001b[0m\n",
       "\u001b[0;34m\u001b[0m    \u001b[0mcbs\u001b[0m\u001b[0;34m=\u001b[0m\u001b[0;32mNone\u001b[0m\u001b[0;34m,\u001b[0m\u001b[0;34m\u001b[0m\n",
       "\u001b[0;34m\u001b[0m    \u001b[0mreset_opt\u001b[0m\u001b[0;34m=\u001b[0m\u001b[0;32mFalse\u001b[0m\u001b[0;34m,\u001b[0m\u001b[0;34m\u001b[0m\n",
       "\u001b[0;34m\u001b[0m    \u001b[0mstart_epoch\u001b[0m\u001b[0;34m=\u001b[0m\u001b[0;36m0\u001b[0m\u001b[0;34m,\u001b[0m\u001b[0;34m\u001b[0m\n",
       "\u001b[0;34m\u001b[0m\u001b[0;34m)\u001b[0m\u001b[0;34m\u001b[0m\u001b[0;34m\u001b[0m\u001b[0m\n",
       "\u001b[0;31mDocstring:\u001b[0m Fine tune with `Learner.freeze` for `freeze_epochs`, then with `Learner.unfreeze` for `epochs`, using discriminative LR.\n",
       "\u001b[0;31mFile:\u001b[0m      ~/miniforge3/lib/python3.12/site-packages/fastai/callback/schedule.py\n",
       "\u001b[0;31mType:\u001b[0m      method"
      ]
     },
     "metadata": {},
     "output_type": "display_data"
    }
   ],
   "source": [
    "learn.fine_tune?"
   ]
  },
  {
   "cell_type": "code",
   "execution_count": 35,
   "id": "86b0c318-f4fa-410a-82a1-9299360d7e8f",
   "metadata": {},
   "outputs": [
    {
     "data": {
      "text/html": [
       "\n",
       "<style>\n",
       "    /* Turns off some styling */\n",
       "    progress {\n",
       "        /* gets rid of default border in Firefox and Opera. */\n",
       "        border: none;\n",
       "        /* Needs to be in here for Safari polyfill so background images work as expected. */\n",
       "        background-size: auto;\n",
       "    }\n",
       "    progress:not([value]), progress:not([value])::-webkit-progress-bar {\n",
       "        background: repeating-linear-gradient(45deg, #7e7e7e, #7e7e7e 10px, #5c5c5c 10px, #5c5c5c 20px);\n",
       "    }\n",
       "    .progress-bar-interrupted, .progress-bar-interrupted::-webkit-progress-bar {\n",
       "        background: #F44336;\n",
       "    }\n",
       "</style>\n"
      ],
      "text/plain": [
       "<IPython.core.display.HTML object>"
      ]
     },
     "metadata": {},
     "output_type": "display_data"
    },
    {
     "data": {
      "text/html": [
       "<table border=\"1\" class=\"dataframe\">\n",
       "  <thead>\n",
       "    <tr style=\"text-align: left;\">\n",
       "      <th>epoch</th>\n",
       "      <th>train_loss</th>\n",
       "      <th>valid_loss</th>\n",
       "      <th>m_ap</th>\n",
       "      <th>reg_loss</th>\n",
       "      <th>cls_loss</th>\n",
       "      <th>time</th>\n",
       "    </tr>\n",
       "  </thead>\n",
       "  <tbody>\n",
       "    <tr>\n",
       "      <td>0</td>\n",
       "      <td>3.215082</td>\n",
       "      <td>2.069338</td>\n",
       "      <td>0.000011</td>\n",
       "      <td>1.378266</td>\n",
       "      <td>0.691072</td>\n",
       "      <td>05:48</td>\n",
       "    </tr>\n",
       "  </tbody>\n",
       "</table>"
      ],
      "text/plain": [
       "<IPython.core.display.HTML object>"
      ]
     },
     "metadata": {},
     "output_type": "display_data"
    },
    {
     "data": {
      "text/html": [
       "\n",
       "<style>\n",
       "    /* Turns off some styling */\n",
       "    progress {\n",
       "        /* gets rid of default border in Firefox and Opera. */\n",
       "        border: none;\n",
       "        /* Needs to be in here for Safari polyfill so background images work as expected. */\n",
       "        background-size: auto;\n",
       "    }\n",
       "    progress:not([value]), progress:not([value])::-webkit-progress-bar {\n",
       "        background: repeating-linear-gradient(45deg, #7e7e7e, #7e7e7e 10px, #5c5c5c 10px, #5c5c5c 20px);\n",
       "    }\n",
       "    .progress-bar-interrupted, .progress-bar-interrupted::-webkit-progress-bar {\n",
       "        background: #F44336;\n",
       "    }\n",
       "</style>\n"
      ],
      "text/plain": [
       "<IPython.core.display.HTML object>"
      ]
     },
     "metadata": {},
     "output_type": "display_data"
    },
    {
     "data": {
      "text/html": [
       "<table border=\"1\" class=\"dataframe\">\n",
       "  <thead>\n",
       "    <tr style=\"text-align: left;\">\n",
       "      <th>epoch</th>\n",
       "      <th>train_loss</th>\n",
       "      <th>valid_loss</th>\n",
       "      <th>m_ap</th>\n",
       "      <th>reg_loss</th>\n",
       "      <th>cls_loss</th>\n",
       "      <th>time</th>\n",
       "    </tr>\n",
       "  </thead>\n",
       "  <tbody>\n",
       "    <tr>\n",
       "      <td>0</td>\n",
       "      <td>2.801988</td>\n",
       "      <td>1.207601</td>\n",
       "      <td>0.000011</td>\n",
       "      <td>0.630653</td>\n",
       "      <td>0.576948</td>\n",
       "      <td>09:46</td>\n",
       "    </tr>\n",
       "  </tbody>\n",
       "</table>"
      ],
      "text/plain": [
       "<IPython.core.display.HTML object>"
      ]
     },
     "metadata": {},
     "output_type": "display_data"
    }
   ],
   "source": [
    "learn.fine_tune(epochs=1, base_lr=2e-3)"
   ]
  },
  {
   "cell_type": "code",
   "execution_count": null,
   "id": "52fc8e46-35a5-48ec-9773-1333f31f2a8d",
   "metadata": {},
   "outputs": [],
   "source": []
  }
 ],
 "metadata": {
  "kernelspec": {
   "display_name": "Python 3 (ipykernel)",
   "language": "python",
   "name": "python3"
  },
  "language_info": {
   "codemirror_mode": {
    "name": "ipython",
    "version": 3
   },
   "file_extension": ".py",
   "mimetype": "text/x-python",
   "name": "python",
   "nbconvert_exporter": "python",
   "pygments_lexer": "ipython3",
   "version": "3.12.8"
  }
 },
 "nbformat": 4,
 "nbformat_minor": 5
}
